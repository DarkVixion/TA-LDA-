{
 "cells": [
  {
   "cell_type": "code",
   "execution_count": 1,
   "id": "f97deac2",
   "metadata": {
    "tags": []
   },
   "outputs": [
    {
     "name": "stdout",
     "output_type": "stream",
     "text": [
      "Requirement already satisfied: nltk in c:\\users\\hafiz\\anaconda3\\lib\\site-packages (3.8.1)\n",
      "Requirement already satisfied: click in c:\\users\\hafiz\\anaconda3\\lib\\site-packages (from nltk) (8.0.4)\n",
      "Requirement already satisfied: joblib in c:\\users\\hafiz\\anaconda3\\lib\\site-packages (from nltk) (1.2.0)\n",
      "Requirement already satisfied: regex>=2021.8.3 in c:\\users\\hafiz\\anaconda3\\lib\\site-packages (from nltk) (2022.7.9)\n",
      "Requirement already satisfied: tqdm in c:\\users\\hafiz\\anaconda3\\lib\\site-packages (from nltk) (4.65.0)\n",
      "Requirement already satisfied: colorama in c:\\users\\hafiz\\anaconda3\\lib\\site-packages (from click->nltk) (0.4.6)\n",
      "Note: you may need to restart the kernel to use updated packages.\n"
     ]
    }
   ],
   "source": [
    "pip install nltk"
   ]
  },
  {
   "cell_type": "code",
   "execution_count": 10,
   "id": "31d21763-eff7-4349-b150-0abde3e68a06",
   "metadata": {},
   "outputs": [
    {
     "ename": "SyntaxError",
     "evalue": "invalid syntax (3475937608.py, line 1)",
     "output_type": "error",
     "traceback": [
      "\u001b[1;36m  Cell \u001b[1;32mIn[10], line 1\u001b[1;36m\u001b[0m\n\u001b[1;33m    pip install Sastrawi\u001b[0m\n\u001b[1;37m        ^\u001b[0m\n\u001b[1;31mSyntaxError\u001b[0m\u001b[1;31m:\u001b[0m invalid syntax\n"
     ]
    }
   ],
   "source": []
  },
  {
   "cell_type": "code",
   "execution_count": 2,
   "id": "6186cb62-4e0f-435a-b3b2-c63610297f1e",
   "metadata": {},
   "outputs": [
    {
     "name": "stdout",
     "output_type": "stream",
     "text": [
      "Requirement already satisfied: pandas in c:\\users\\hafiz\\anaconda3\\lib\\site-packages (1.5.3)\n",
      "Requirement already satisfied: openpyxl in c:\\users\\hafiz\\anaconda3\\lib\\site-packages (3.0.10)\n",
      "Requirement already satisfied: python-dateutil>=2.8.1 in c:\\users\\hafiz\\anaconda3\\lib\\site-packages (from pandas) (2.8.2)\n",
      "Requirement already satisfied: pytz>=2020.1 in c:\\users\\hafiz\\anaconda3\\lib\\site-packages (from pandas) (2023.3.post1)\n",
      "Requirement already satisfied: numpy>=1.21.0 in c:\\users\\hafiz\\anaconda3\\lib\\site-packages (from pandas) (1.24.4)\n",
      "Requirement already satisfied: et_xmlfile in c:\\users\\hafiz\\anaconda3\\lib\\site-packages (from openpyxl) (1.1.0)\n",
      "Requirement already satisfied: six>=1.5 in c:\\users\\hafiz\\anaconda3\\lib\\site-packages (from python-dateutil>=2.8.1->pandas) (1.16.0)\n",
      "Note: you may need to restart the kernel to use updated packages.\n"
     ]
    }
   ],
   "source": [
    "pip install pandas openpyxl"
   ]
  },
  {
   "cell_type": "code",
   "execution_count": 2,
   "id": "0c518482",
   "metadata": {},
   "outputs": [
    {
     "name": "stdout",
     "output_type": "stream",
     "text": [
      "Requirement already satisfied: deep-translator in c:\\users\\hafiz\\anaconda3\\lib\\site-packages (1.11.4)\n",
      "Requirement already satisfied: beautifulsoup4<5.0.0,>=4.9.1 in c:\\users\\hafiz\\anaconda3\\lib\\site-packages (from deep-translator) (4.12.2)\n",
      "Requirement already satisfied: requests<3.0.0,>=2.23.0 in c:\\users\\hafiz\\anaconda3\\lib\\site-packages (from deep-translator) (2.32.3)\n",
      "Requirement already satisfied: soupsieve>1.2 in c:\\users\\hafiz\\anaconda3\\lib\\site-packages (from beautifulsoup4<5.0.0,>=4.9.1->deep-translator) (2.4)\n",
      "Requirement already satisfied: charset-normalizer<4,>=2 in c:\\users\\hafiz\\anaconda3\\lib\\site-packages (from requests<3.0.0,>=2.23.0->deep-translator) (2.0.4)\n",
      "Requirement already satisfied: idna<4,>=2.5 in c:\\users\\hafiz\\anaconda3\\lib\\site-packages (from requests<3.0.0,>=2.23.0->deep-translator) (2.10)\n",
      "Requirement already satisfied: urllib3<3,>=1.21.1 in c:\\users\\hafiz\\anaconda3\\lib\\site-packages (from requests<3.0.0,>=2.23.0->deep-translator) (1.26.16)\n",
      "Requirement already satisfied: certifi>=2017.4.17 in c:\\users\\hafiz\\anaconda3\\lib\\site-packages (from requests<3.0.0,>=2.23.0->deep-translator) (2024.12.14)\n",
      "Note: you may need to restart the kernel to use updated packages.\n"
     ]
    }
   ],
   "source": [
    "\n",
    "pip install deep-translator\n"
   ]
  },
  {
   "cell_type": "code",
   "execution_count": 26,
   "id": "73a25956",
   "metadata": {},
   "outputs": [
    {
     "name": "stdout",
     "output_type": "stream",
     "text": [
      "Requirement already satisfied: requests in c:\\users\\hafiz\\anaconda3\\lib\\site-packages (2.32.3)\n",
      "Requirement already satisfied: charset-normalizer<4,>=2 in c:\\users\\hafiz\\anaconda3\\lib\\site-packages (from requests) (2.0.4)\n",
      "Requirement already satisfied: idna<4,>=2.5 in c:\\users\\hafiz\\anaconda3\\lib\\site-packages (from requests) (2.10)\n",
      "Requirement already satisfied: urllib3<3,>=1.21.1 in c:\\users\\hafiz\\anaconda3\\lib\\site-packages (from requests) (1.26.16)\n",
      "Requirement already satisfied: certifi>=2017.4.17 in c:\\users\\hafiz\\anaconda3\\lib\\site-packages (from requests) (2024.12.14)\n",
      "Note: you may need to restart the kernel to use updated packages.\n"
     ]
    }
   ],
   "source": [
    "pip install requests"
   ]
  },
  {
   "cell_type": "code",
   "execution_count": 4,
   "id": "18cc8cdc",
   "metadata": {},
   "outputs": [
    {
     "name": "stdout",
     "output_type": "stream",
     "text": [
      "Requirement already satisfied: tqdm in c:\\users\\hafiz\\anaconda3\\lib\\site-packages (4.65.0)\n",
      "Requirement already satisfied: colorama in c:\\users\\hafiz\\anaconda3\\lib\\site-packages (from tqdm) (0.4.6)\n",
      "Note: you may need to restart the kernel to use updated packages.\n"
     ]
    }
   ],
   "source": [
    "pip install tqdm"
   ]
  },
  {
   "cell_type": "code",
   "execution_count": 5,
   "id": "e5ea81a9",
   "metadata": {},
   "outputs": [
    {
     "name": "stdout",
     "output_type": "stream",
     "text": [
      "Requirement already satisfied: gensim in c:\\users\\hafiz\\anaconda3\\lib\\site-packages (4.3.0)\n",
      "Requirement already satisfied: numpy>=1.18.5 in c:\\users\\hafiz\\anaconda3\\lib\\site-packages (from gensim) (1.24.3)\n",
      "Requirement already satisfied: scipy>=1.7.0 in c:\\users\\hafiz\\anaconda3\\lib\\site-packages (from gensim) (1.10.1)\n",
      "Requirement already satisfied: smart-open>=1.8.1 in c:\\users\\hafiz\\anaconda3\\lib\\site-packages (from gensim) (5.2.1)\n",
      "Requirement already satisfied: FuzzyTM>=0.4.0 in c:\\users\\hafiz\\anaconda3\\lib\\site-packages (from gensim) (2.0.9)\n",
      "Requirement already satisfied: pandas in c:\\users\\hafiz\\anaconda3\\lib\\site-packages (from FuzzyTM>=0.4.0->gensim) (1.5.3)\n",
      "Requirement already satisfied: pyfume in c:\\users\\hafiz\\anaconda3\\lib\\site-packages (from FuzzyTM>=0.4.0->gensim) (0.3.4)\n",
      "Requirement already satisfied: python-dateutil>=2.8.1 in c:\\users\\hafiz\\anaconda3\\lib\\site-packages (from pandas->FuzzyTM>=0.4.0->gensim) (2.8.2)\n",
      "Requirement already satisfied: pytz>=2020.1 in c:\\users\\hafiz\\anaconda3\\lib\\site-packages (from pandas->FuzzyTM>=0.4.0->gensim) (2023.3.post1)\n",
      "Collecting numpy>=1.18.5 (from gensim)\n",
      "  Obtaining dependency information for numpy>=1.18.5 from https://files.pythonhosted.org/packages/d8/ec/ebef2f7d7c28503f958f0f8b992e7ce606fb74f9e891199329d5f5f87404/numpy-1.24.4-cp311-cp311-win_amd64.whl.metadata\n",
      "  Using cached numpy-1.24.4-cp311-cp311-win_amd64.whl.metadata (5.6 kB)\n",
      "Requirement already satisfied: simpful==2.12.0 in c:\\users\\hafiz\\anaconda3\\lib\\site-packages (from pyfume->FuzzyTM>=0.4.0->gensim) (2.12.0)\n",
      "Requirement already satisfied: fst-pso==1.8.1 in c:\\users\\hafiz\\anaconda3\\lib\\site-packages (from pyfume->FuzzyTM>=0.4.0->gensim) (1.8.1)\n",
      "Requirement already satisfied: miniful in c:\\users\\hafiz\\anaconda3\\lib\\site-packages (from fst-pso==1.8.1->pyfume->FuzzyTM>=0.4.0->gensim) (0.0.6)\n",
      "Requirement already satisfied: six>=1.5 in c:\\users\\hafiz\\anaconda3\\lib\\site-packages (from python-dateutil>=2.8.1->pandas->FuzzyTM>=0.4.0->gensim) (1.16.0)\n",
      "Using cached numpy-1.24.4-cp311-cp311-win_amd64.whl (14.8 MB)\n",
      "Installing collected packages: numpy\n",
      "  Attempting uninstall: numpy\n",
      "    Found existing installation: numpy 1.24.3\n",
      "    Uninstalling numpy-1.24.3:\n",
      "      Successfully uninstalled numpy-1.24.3\n",
      "Successfully installed numpy-1.24.4\n",
      "Note: you may need to restart the kernel to use updated packages.\n"
     ]
    },
    {
     "name": "stderr",
     "output_type": "stream",
     "text": [
      "ERROR: pip's dependency resolver does not currently take into account all the packages that are installed. This behaviour is the source of the following dependency conflicts.\n",
      "tables 3.8.0 requires blosc2~=2.0.0, which is not installed.\n",
      "tables 3.8.0 requires cython>=0.29.21, which is not installed.\n"
     ]
    }
   ],
   "source": [
    "pip install gensim"
   ]
  },
  {
   "cell_type": "code",
   "execution_count": 6,
   "id": "fa4470f6",
   "metadata": {},
   "outputs": [
    {
     "name": "stdout",
     "output_type": "stream",
     "text": [
      "Requirement already satisfied: wordcloud in c:\\users\\hafiz\\anaconda3\\lib\\site-packages (1.9.3)\n",
      "Requirement already satisfied: numpy>=1.6.1 in c:\\users\\hafiz\\anaconda3\\lib\\site-packages (from wordcloud) (1.24.4)\n",
      "Requirement already satisfied: pillow in c:\\users\\hafiz\\anaconda3\\lib\\site-packages (from wordcloud) (10.0.1)\n",
      "Requirement already satisfied: matplotlib in c:\\users\\hafiz\\anaconda3\\lib\\site-packages (from wordcloud) (3.7.2)\n",
      "Requirement already satisfied: contourpy>=1.0.1 in c:\\users\\hafiz\\anaconda3\\lib\\site-packages (from matplotlib->wordcloud) (1.0.5)\n",
      "Requirement already satisfied: cycler>=0.10 in c:\\users\\hafiz\\anaconda3\\lib\\site-packages (from matplotlib->wordcloud) (0.11.0)\n",
      "Requirement already satisfied: fonttools>=4.22.0 in c:\\users\\hafiz\\anaconda3\\lib\\site-packages (from matplotlib->wordcloud) (4.25.0)\n",
      "Requirement already satisfied: kiwisolver>=1.0.1 in c:\\users\\hafiz\\anaconda3\\lib\\site-packages (from matplotlib->wordcloud) (1.4.4)\n",
      "Requirement already satisfied: packaging>=20.0 in c:\\users\\hafiz\\anaconda3\\lib\\site-packages (from matplotlib->wordcloud) (23.1)\n",
      "Requirement already satisfied: pyparsing<3.1,>=2.3.1 in c:\\users\\hafiz\\anaconda3\\lib\\site-packages (from matplotlib->wordcloud) (3.0.9)\n",
      "Requirement already satisfied: python-dateutil>=2.7 in c:\\users\\hafiz\\anaconda3\\lib\\site-packages (from matplotlib->wordcloud) (2.8.2)\n",
      "Requirement already satisfied: six>=1.5 in c:\\users\\hafiz\\anaconda3\\lib\\site-packages (from python-dateutil>=2.7->matplotlib->wordcloud) (1.16.0)\n",
      "Note: you may need to restart the kernel to use updated packages.\n"
     ]
    }
   ],
   "source": [
    "pip install wordcloud"
   ]
  },
  {
   "cell_type": "code",
   "execution_count": 1,
   "id": "aff579e6",
   "metadata": {},
   "outputs": [
    {
     "name": "stdout",
     "output_type": "stream",
     "text": [
      "Requirement already satisfied: selenium in c:\\users\\hafiz\\anaconda3\\lib\\site-packages (4.16.0)\n",
      "Requirement already satisfied: beautifulsoup4 in c:\\users\\hafiz\\anaconda3\\lib\\site-packages (4.12.2)\n",
      "Requirement already satisfied: urllib3[socks]<3,>=1.26 in c:\\users\\hafiz\\anaconda3\\lib\\site-packages (from selenium) (1.26.16)\n",
      "Requirement already satisfied: trio~=0.17 in c:\\users\\hafiz\\anaconda3\\lib\\site-packages (from selenium) (0.23.1)\n",
      "Requirement already satisfied: trio-websocket~=0.9 in c:\\users\\hafiz\\anaconda3\\lib\\site-packages (from selenium) (0.11.1)\n",
      "Requirement already satisfied: certifi>=2021.10.8 in c:\\users\\hafiz\\anaconda3\\lib\\site-packages (from selenium) (2024.12.14)\n",
      "Requirement already satisfied: soupsieve>1.2 in c:\\users\\hafiz\\anaconda3\\lib\\site-packages (from beautifulsoup4) (2.4)\n",
      "Requirement already satisfied: attrs>=20.1.0 in c:\\users\\hafiz\\anaconda3\\lib\\site-packages (from trio~=0.17->selenium) (24.3.0)\n",
      "Requirement already satisfied: sortedcontainers in c:\\users\\hafiz\\anaconda3\\lib\\site-packages (from trio~=0.17->selenium) (2.4.0)\n",
      "Requirement already satisfied: idna in c:\\users\\hafiz\\anaconda3\\lib\\site-packages (from trio~=0.17->selenium) (2.10)\n",
      "Requirement already satisfied: outcome in c:\\users\\hafiz\\anaconda3\\lib\\site-packages (from trio~=0.17->selenium) (1.3.0.post0)\n",
      "Requirement already satisfied: sniffio>=1.3.0 in c:\\users\\hafiz\\anaconda3\\lib\\site-packages (from trio~=0.17->selenium) (1.3.0)\n",
      "Requirement already satisfied: cffi>=1.14 in c:\\users\\hafiz\\anaconda3\\lib\\site-packages (from trio~=0.17->selenium) (1.15.1)\n",
      "Requirement already satisfied: wsproto>=0.14 in c:\\users\\hafiz\\anaconda3\\lib\\site-packages (from trio-websocket~=0.9->selenium) (1.2.0)\n",
      "Requirement already satisfied: PySocks!=1.5.7,<2.0,>=1.5.6 in c:\\users\\hafiz\\anaconda3\\lib\\site-packages (from urllib3[socks]<3,>=1.26->selenium) (1.7.1)\n",
      "Requirement already satisfied: pycparser in c:\\users\\hafiz\\anaconda3\\lib\\site-packages (from cffi>=1.14->trio~=0.17->selenium) (2.21)\n",
      "Requirement already satisfied: h11<1,>=0.9.0 in c:\\users\\hafiz\\anaconda3\\lib\\site-packages (from wsproto>=0.14->trio-websocket~=0.9->selenium) (0.14.0)\n",
      "Note: you may need to restart the kernel to use updated packages.\n"
     ]
    }
   ],
   "source": [
    "pip install selenium beautifulsoup4 "
   ]
  },
  {
   "cell_type": "code",
   "execution_count": 3,
   "id": "123e0569-2f7c-406c-84fa-2ff400a76364",
   "metadata": {},
   "outputs": [
    {
     "name": "stderr",
     "output_type": "stream",
     "text": [
      "Scraping Universitas Telkom Bandung: 35 scroll [06:26, 11.05s/ scroll]\n"
     ]
    }
   ],
   "source": [
    "from selenium.webdriver.common.by import By\n",
    "from selenium.webdriver.support.ui import WebDriverWait\n",
    "from selenium.webdriver.support import expected_conditions as EC\n",
    "from selenium.webdriver.common.keys import Keys\n",
    "from selenium.webdriver.chrome.options import Options\n",
    "from selenium.webdriver.chrome.service import Service\n",
    "from selenium import webdriver\n",
    "from bs4 import BeautifulSoup as bs\n",
    "import time\n",
    "import pandas as pd\n",
    "from tqdm import tqdm\n",
    "\n",
    "def clear_cache(driver):\n",
    "    driver.execute_cdp_cmd('Network.clearBrowserCache', {})\n",
    "\n",
    "def save_to_csv(data, file_path):\n",
    "    df = pd.DataFrame(data)\n",
    "    try:\n",
    "        existing_df = pd.read_csv(file_path)\n",
    "        df = pd.concat([existing_df, df])\n",
    "    except FileNotFoundError:\n",
    "        pass\n",
    "    df.to_csv(file_path, index=False)\n",
    "\n",
    "list_nama_ = [\n",
    "    'Universitas Telkom Bandung'\n",
    "]\n",
    "\n",
    "batch_size = 450\n",
    "\n",
    "for list_nama in list_nama_:\n",
    "    driver_path = 'chromedriver.exe'\n",
    "    option = Options()\n",
    "    # option.add_argument('--start-maximized')\n",
    "    option.add_argument('--headless')\n",
    "    s = Service(driver_path)\n",
    "\n",
    "    driver = webdriver.Chrome(service=s, options=option)\n",
    "    driver.get('https://google.com')\n",
    "\n",
    "    WebDriverWait(driver, 5).until(\n",
    "        EC.presence_of_element_located((By.CLASS_NAME, \"gLFyf\"))\n",
    "    )\n",
    "\n",
    "    input_google = driver.find_element(By.CLASS_NAME, \"gLFyf\")\n",
    "    input_google.clear()\n",
    "    input_google.send_keys(f'{list_nama}' + Keys.ENTER)\n",
    "\n",
    "    WebDriverWait(driver, 5).until(\n",
    "        EC.presence_of_element_located((By.PARTIAL_LINK_TEXT, \"Lihat semua ulasan Google\"))\n",
    "    )\n",
    "\n",
    "    ulasan_ = driver.find_element(By.PARTIAL_LINK_TEXT, \"Lihat semua ulasan Google\")\n",
    "    ulasan_.click()\n",
    "\n",
    "    WebDriverWait(driver, 5).until(\n",
    "        EC.presence_of_element_located((By.CLASS_NAME, \"review-dialog-list\"))\n",
    "    )\n",
    "\n",
    "    e_scroll = driver.find_element(By.CLASS_NAME, 'review-dialog-list')\n",
    "\n",
    "    prev_h = driver.execute_script('return arguments[0].scrollHeight;', e_scroll)\n",
    "    data_batch = []\n",
    "\n",
    "    with tqdm(desc=f'Scraping {list_nama}', unit=' scroll') as pbar:\n",
    "        while True:\n",
    "            driver.execute_script('arguments[0].scrollTop = arguments[0].scrollHeight;', e_scroll)\n",
    "            time.sleep(8)\n",
    "            new_h = driver.execute_script('return arguments[0].scrollHeight', e_scroll)\n",
    "            if new_h == prev_h:\n",
    "                break\n",
    "\n",
    "            content = driver.page_source\n",
    "            soup = bs(content, 'html.parser')\n",
    "            nama_ = soup.find_all('div', attrs={'class': 'TSUbDb'})\n",
    "            review_ = soup.find_all('div', attrs={'class': 'Jtu6Td'})\n",
    "            bintang_ = soup.find_all('span', attrs={'class': 'lTi8oc z3HNkc'})\n",
    "\n",
    "            for i_n, i_r, i_b in zip(nama_, review_, bintang_):\n",
    "                data_batch.append({\n",
    "                    'nama': i_n.text,\n",
    "                    'review': i_r.text.strip(),\n",
    "                    'bintang': i_b['aria-label'][14:-10]\n",
    "                })\n",
    "\n",
    "            if len(data_batch) >= batch_size:\n",
    "                save_to_csv(data_batch, f'C:\\\\Users\\\\HAFIZ\\\\Downloads\\\\Untitled Folder\\\\{list_nama}.csv')\n",
    "                data_batch.clear()\n",
    "\n",
    "            prev_h = new_h\n",
    "            pbar.update(1)\n",
    "\n",
    "    if data_batch:\n",
    "        save_to_csv(data_batch, f'C:\\\\Users\\\\HAFIZ\\\\Downloads\\\\Untitled Folder\\\\{list_nama}.csv')\n",
    "\n",
    "    clear_cache(driver)\n",
    "    time.sleep(5)\n",
    "    driver.quit()\n"
   ]
  },
  {
   "cell_type": "code",
   "execution_count": 26,
   "id": "88bf36b7",
   "metadata": {},
   "outputs": [
    {
     "name": "stderr",
     "output_type": "stream",
     "text": [
      "Scraping Universitas Pertamina: 33 scroll [05:41, 10.36s/ scroll]\n",
      "Scraping Institut Teknologi PLN: 31 scroll [05:12, 10.09s/ scroll]\n",
      "Scraping Institut Teknologi Telkom Surabaya: 24 scroll [03:57,  9.91s/ scroll]\n"
     ]
    }
   ],
   "source": [
    "\n",
    "def clear_cache(driver):\n",
    "    driver.execute_cdp_cmd('Network.clearBrowserCache', {})\n",
    "\n",
    "def save_to_csv(data, file_path):\n",
    "    df = pd.DataFrame(data)\n",
    "    try:\n",
    "        existing_df = pd.read_csv(file_path)\n",
    "        df = pd.concat([existing_df, df])\n",
    "    except FileNotFoundError:\n",
    "        pass\n",
    "    df.to_csv(file_path, index=False)\n",
    "\n",
    "list_nama_ = [\n",
    "    'Universitas Pertamina',\n",
    "    'Institut Teknologi PLN',\n",
    "    'Institut Teknologi Telkom Surabaya'\n",
    "]\n",
    "\n",
    "batch_size = 450\n",
    "\n",
    "for list_nama in list_nama_:\n",
    "    driver_path = 'chromedriver.exe'\n",
    "    option = Options()\n",
    "    # option.add_argument('--start-maximized')\n",
    "    option.add_argument('--headless')\n",
    "    s = Service(driver_path)\n",
    "\n",
    "    driver = webdriver.Chrome(service=s, options=option)\n",
    "    driver.get('https://google.com')\n",
    "\n",
    "    WebDriverWait(driver, 5).until(\n",
    "        EC.presence_of_element_located((By.CLASS_NAME, \"gLFyf\"))\n",
    "    )\n",
    "\n",
    "    input_google = driver.find_element(By.CLASS_NAME, \"gLFyf\")\n",
    "    input_google.clear()\n",
    "    input_google.send_keys(f'{list_nama}' + Keys.ENTER)\n",
    "\n",
    "    WebDriverWait(driver, 5).until(\n",
    "        EC.presence_of_element_located((By.PARTIAL_LINK_TEXT, \"Lihat semua ulasan Google\"))\n",
    "    )\n",
    "\n",
    "    ulasan_ = driver.find_element(By.PARTIAL_LINK_TEXT, \"Lihat semua ulasan Google\")\n",
    "    ulasan_.click()\n",
    "\n",
    "    WebDriverWait(driver, 5).until(\n",
    "        EC.presence_of_element_located((By.CLASS_NAME, \"review-dialog-list\"))\n",
    "    )\n",
    "\n",
    "    e_scroll = driver.find_element(By.CLASS_NAME, 'review-dialog-list')\n",
    "\n",
    "    prev_h = driver.execute_script('return arguments[0].scrollHeight;', e_scroll)\n",
    "    data_batch = []\n",
    "\n",
    "    with tqdm(desc=f'Scraping {list_nama}', unit=' scroll') as pbar:\n",
    "        while True:\n",
    "            driver.execute_script('arguments[0].scrollTop = arguments[0].scrollHeight;', e_scroll)\n",
    "            time.sleep(8)\n",
    "            new_h = driver.execute_script('return arguments[0].scrollHeight', e_scroll)\n",
    "            if new_h == prev_h:\n",
    "                break\n",
    "\n",
    "            content = driver.page_source\n",
    "            soup = bs(content, 'html.parser')\n",
    "            nama_ = soup.find_all('div', attrs={'class': 'TSUbDb'})\n",
    "            review_ = soup.find_all('div', attrs={'class': 'Jtu6Td'})\n",
    "            bintang_ = soup.find_all('span', attrs={'class': 'lTi8oc z3HNkc'})\n",
    "\n",
    "            for i_n, i_r, i_b in zip(nama_, review_, bintang_):\n",
    "                data_batch.append({\n",
    "                    'nama': i_n.text,\n",
    "                    'review': i_r.text.strip(),\n",
    "                    'bintang': i_b['aria-label'][14:-10]\n",
    "                })\n",
    "\n",
    "            if len(data_batch) >= batch_size:\n",
    "                save_to_csv(data_batch, f'C:\\\\Users\\\\HAFIZ\\\\Downloads\\\\Untitled Folder\\\\{list_nama}.csv')\n",
    "                data_batch.clear()\n",
    "\n",
    "            prev_h = new_h\n",
    "            pbar.update(1)\n",
    "\n",
    "    if data_batch:\n",
    "        save_to_csv(data_batch, f'C:\\\\Users\\\\HAFIZ\\\\Downloads\\\\Untitled Folder\\\\{list_nama}.csv')\n",
    "\n",
    "    clear_cache(driver)\n",
    "    time.sleep(5)\n",
    "    driver.quit()\n"
   ]
  },
  {
   "cell_type": "code",
   "execution_count": 31,
   "id": "26a46007",
   "metadata": {},
   "outputs": [
    {
     "name": "stderr",
     "output_type": "stream",
     "text": [
      "Scraping Universitas Logistik dan Bisnis Internasional (ULBI): 35 scroll [06:06, 10.46s/ scroll]\n",
      "Scraping Universitas Internasional Semen Indonesia: 19 scroll [03:04,  9.70s/ scroll]\n"
     ]
    }
   ],
   "source": [
    "\n",
    "def clear_cache(driver):\n",
    "    driver.execute_cdp_cmd('Network.clearBrowserCache', {})\n",
    "\n",
    "def save_to_csv(data, file_path):\n",
    "    df = pd.DataFrame(data)\n",
    "    try:\n",
    "        existing_df = pd.read_csv(file_path)\n",
    "        df = pd.concat([existing_df, df])\n",
    "    except FileNotFoundError:\n",
    "        pass\n",
    "    df.to_csv(file_path, index=False)\n",
    "\n",
    "list_nama_ = [\n",
    "    'Universitas Logistik dan Bisnis Internasional (ULBI)',\n",
    "    'Universitas Internasional Semen Indonesia',\n",
    "]\n",
    "\n",
    "batch_size = 450\n",
    "\n",
    "for list_nama in list_nama_:\n",
    "    driver_path = 'chromedriver.exe'\n",
    "    option = Options()\n",
    "    # option.add_argument('--start-maximized')\n",
    "    option.add_argument('--headless')\n",
    "    s = Service(driver_path)\n",
    "\n",
    "    driver = webdriver.Chrome(service=s, options=option)\n",
    "    driver.get('https://google.com')\n",
    "\n",
    "    WebDriverWait(driver, 5).until(\n",
    "        EC.presence_of_element_located((By.CLASS_NAME, \"gLFyf\"))\n",
    "    )\n",
    "\n",
    "    input_google = driver.find_element(By.CLASS_NAME, \"gLFyf\")\n",
    "    input_google.clear()\n",
    "    input_google.send_keys(f'{list_nama}' + Keys.ENTER)\n",
    "\n",
    "    WebDriverWait(driver, 5).until(\n",
    "        EC.presence_of_element_located((By.PARTIAL_LINK_TEXT, \"Lihat semua ulasan Google\"))\n",
    "    )\n",
    "\n",
    "    ulasan_ = driver.find_element(By.PARTIAL_LINK_TEXT, \"Lihat semua ulasan Google\")\n",
    "    ulasan_.click()\n",
    "\n",
    "    WebDriverWait(driver, 5).until(\n",
    "        EC.presence_of_element_located((By.CLASS_NAME, \"review-dialog-list\"))\n",
    "    )\n",
    "\n",
    "    e_scroll = driver.find_element(By.CLASS_NAME, 'review-dialog-list')\n",
    "\n",
    "    prev_h = driver.execute_script('return arguments[0].scrollHeight;', e_scroll)\n",
    "    data_batch = []\n",
    "\n",
    "    with tqdm(desc=f'Scraping {list_nama}', unit=' scroll') as pbar:\n",
    "        while True:\n",
    "            driver.execute_script('arguments[0].scrollTop = arguments[0].scrollHeight;', e_scroll)\n",
    "            time.sleep(8)\n",
    "            new_h = driver.execute_script('return arguments[0].scrollHeight', e_scroll)\n",
    "            if new_h == prev_h:\n",
    "                break\n",
    "\n",
    "            content = driver.page_source\n",
    "            soup = bs(content, 'html.parser')\n",
    "            nama_ = soup.find_all('div', attrs={'class': 'TSUbDb'})\n",
    "            review_ = soup.find_all('div', attrs={'class': 'Jtu6Td'})\n",
    "            bintang_ = soup.find_all('span', attrs={'class': 'lTi8oc z3HNkc'})\n",
    "\n",
    "            for i_n, i_r, i_b in zip(nama_, review_, bintang_):\n",
    "                data_batch.append({\n",
    "                    'nama': i_n.text,\n",
    "                    'review': i_r.text.strip(),\n",
    "                    'bintang': i_b['aria-label'][14:-10]\n",
    "                })\n",
    "\n",
    "            if len(data_batch) >= batch_size:\n",
    "                save_to_csv(data_batch, f'C:\\\\Users\\\\HAFIZ\\\\Downloads\\\\Untitled Folder\\\\{list_nama}.csv')\n",
    "                data_batch.clear()\n",
    "\n",
    "            prev_h = new_h\n",
    "            pbar.update(1)\n",
    "\n",
    "    if data_batch:\n",
    "        save_to_csv(data_batch, f'C:\\\\Users\\\\HAFIZ\\\\Downloads\\\\Untitled Folder\\\\{list_nama}.csv')\n",
    "\n",
    "    clear_cache(driver)\n",
    "    time.sleep(5)\n",
    "    driver.quit()\n"
   ]
  },
  {
   "cell_type": "code",
   "execution_count": 32,
   "id": "1243221a",
   "metadata": {},
   "outputs": [
    {
     "name": "stderr",
     "output_type": "stream",
     "text": [
      "Scraping Telkom Purwokerto University: 28 scroll [04:44, 10.15s/ scroll]\n"
     ]
    }
   ],
   "source": [
    "\n",
    "def clear_cache(driver):\n",
    "    driver.execute_cdp_cmd('Network.clearBrowserCache', {})\n",
    "\n",
    "def save_to_csv(data, file_path):\n",
    "    df = pd.DataFrame(data)\n",
    "    try:\n",
    "        existing_df = pd.read_csv(file_path)\n",
    "        df = pd.concat([existing_df, df])\n",
    "    except FileNotFoundError:\n",
    "        pass\n",
    "    df.to_csv(file_path, index=False)\n",
    "\n",
    "list_nama_ = [\n",
    "    'Telkom Purwokerto University'\n",
    "]\n",
    "\n",
    "batch_size = 450\n",
    "\n",
    "for list_nama in list_nama_:\n",
    "    driver_path = 'chromedriver.exe'\n",
    "    option = Options()\n",
    "    # option.add_argument('--start-maximized')\n",
    "    option.add_argument('--headless')\n",
    "    s = Service(driver_path)\n",
    "\n",
    "    driver = webdriver.Chrome(service=s, options=option)\n",
    "    driver.get('https://google.com')\n",
    "\n",
    "    WebDriverWait(driver, 5).until(\n",
    "        EC.presence_of_element_located((By.CLASS_NAME, \"gLFyf\"))\n",
    "    )\n",
    "\n",
    "    input_google = driver.find_element(By.CLASS_NAME, \"gLFyf\")\n",
    "    input_google.clear()\n",
    "    input_google.send_keys(f'{list_nama}' + Keys.ENTER)\n",
    "\n",
    "    WebDriverWait(driver, 5).until(\n",
    "        EC.presence_of_element_located((By.PARTIAL_LINK_TEXT, \"Lihat semua ulasan Google\"))\n",
    "    )\n",
    "\n",
    "    ulasan_ = driver.find_element(By.PARTIAL_LINK_TEXT, \"Lihat semua ulasan Google\")\n",
    "    ulasan_.click()\n",
    "\n",
    "    WebDriverWait(driver, 5).until(\n",
    "        EC.presence_of_element_located((By.CLASS_NAME, \"review-dialog-list\"))\n",
    "    )\n",
    "\n",
    "    e_scroll = driver.find_element(By.CLASS_NAME, 'review-dialog-list')\n",
    "\n",
    "    prev_h = driver.execute_script('return arguments[0].scrollHeight;', e_scroll)\n",
    "    data_batch = []\n",
    "\n",
    "    with tqdm(desc=f'Scraping {list_nama}', unit=' scroll') as pbar:\n",
    "        while True:\n",
    "            driver.execute_script('arguments[0].scrollTop = arguments[0].scrollHeight;', e_scroll)\n",
    "            time.sleep(8)\n",
    "            new_h = driver.execute_script('return arguments[0].scrollHeight', e_scroll)\n",
    "            if new_h == prev_h:\n",
    "                break\n",
    "\n",
    "            content = driver.page_source\n",
    "            soup = bs(content, 'html.parser')\n",
    "            nama_ = soup.find_all('div', attrs={'class': 'TSUbDb'})\n",
    "            review_ = soup.find_all('div', attrs={'class': 'Jtu6Td'})\n",
    "            bintang_ = soup.find_all('span', attrs={'class': 'lTi8oc z3HNkc'})\n",
    "\n",
    "            for i_n, i_r, i_b in zip(nama_, review_, bintang_):\n",
    "                data_batch.append({\n",
    "                    'nama': i_n.text,\n",
    "                    'review': i_r.text.strip(),\n",
    "                    'bintang': i_b['aria-label'][14:-10]\n",
    "                })\n",
    "\n",
    "            if len(data_batch) >= batch_size:\n",
    "                save_to_csv(data_batch, f'C:\\\\Users\\\\HAFIZ\\\\Downloads\\\\Untitled Folder\\\\{list_nama}.csv')\n",
    "                data_batch.clear()\n",
    "\n",
    "            prev_h = new_h\n",
    "            pbar.update(1)\n",
    "\n",
    "    if data_batch:\n",
    "        save_to_csv(data_batch, f'C:\\\\Users\\\\HAFIZ\\\\Downloads\\\\Untitled Folder\\\\{list_nama}.csv')\n",
    "\n",
    "    clear_cache(driver)\n",
    "    time.sleep(5)\n",
    "    driver.quit()\n"
   ]
  },
  {
   "cell_type": "code",
   "execution_count": 37,
   "id": "52860ca4",
   "metadata": {},
   "outputs": [
    {
     "name": "stdout",
     "output_type": "stream",
     "text": [
      "\n",
      "Memproses file: C:\\Users\\HAFIZ\\Downloads\\Untitled Folder\\Institut Teknologi PLN.csv\n",
      "Tidak ada data duplikat di C:\\Users\\HAFIZ\\Downloads\\Untitled Folder\\Institut Teknologi PLN.csv.\n",
      "File C:\\Users\\HAFIZ\\Downloads\\Untitled Folder\\Institut Teknologi PLN.csv telah diperbarui dengan data unik.\n",
      "\n",
      "Memproses file: C:\\Users\\HAFIZ\\Downloads\\Untitled Folder\\Institut Teknologi Telkom Purwokerto.csv\n",
      "Tidak ada data duplikat di C:\\Users\\HAFIZ\\Downloads\\Untitled Folder\\Institut Teknologi Telkom Purwokerto.csv.\n",
      "File C:\\Users\\HAFIZ\\Downloads\\Untitled Folder\\Institut Teknologi Telkom Purwokerto.csv telah diperbarui dengan data unik.\n",
      "\n",
      "Memproses file: C:\\Users\\HAFIZ\\Downloads\\Untitled Folder\\Institut Teknologi Telkom Surabaya.csv\n",
      "Tidak ada data duplikat di C:\\Users\\HAFIZ\\Downloads\\Untitled Folder\\Institut Teknologi Telkom Surabaya.csv.\n",
      "File C:\\Users\\HAFIZ\\Downloads\\Untitled Folder\\Institut Teknologi Telkom Surabaya.csv telah diperbarui dengan data unik.\n",
      "\n",
      "Memproses file: C:\\Users\\HAFIZ\\Downloads\\Untitled Folder\\Telkom Purwokerto University.csv\n",
      "Tidak ada data duplikat di C:\\Users\\HAFIZ\\Downloads\\Untitled Folder\\Telkom Purwokerto University.csv.\n",
      "File C:\\Users\\HAFIZ\\Downloads\\Untitled Folder\\Telkom Purwokerto University.csv telah diperbarui dengan data unik.\n",
      "\n",
      "Memproses file: C:\\Users\\HAFIZ\\Downloads\\Untitled Folder\\Universitas Internasional Semen Indonesia.csv\n",
      "Tidak ada data duplikat di C:\\Users\\HAFIZ\\Downloads\\Untitled Folder\\Universitas Internasional Semen Indonesia.csv.\n",
      "File C:\\Users\\HAFIZ\\Downloads\\Untitled Folder\\Universitas Internasional Semen Indonesia.csv telah diperbarui dengan data unik.\n",
      "\n",
      "Memproses file: C:\\Users\\HAFIZ\\Downloads\\Untitled Folder\\Universitas Logistik dan Bisnis Internasional (ULBI).csv\n",
      "Tidak ada data duplikat di C:\\Users\\HAFIZ\\Downloads\\Untitled Folder\\Universitas Logistik dan Bisnis Internasional (ULBI).csv.\n",
      "File C:\\Users\\HAFIZ\\Downloads\\Untitled Folder\\Universitas Logistik dan Bisnis Internasional (ULBI).csv telah diperbarui dengan data unik.\n",
      "\n",
      "Memproses file: C:\\Users\\HAFIZ\\Downloads\\Untitled Folder\\Universitas Pertamina.csv\n",
      "Tidak ada data duplikat di C:\\Users\\HAFIZ\\Downloads\\Untitled Folder\\Universitas Pertamina.csv.\n",
      "File C:\\Users\\HAFIZ\\Downloads\\Untitled Folder\\Universitas Pertamina.csv telah diperbarui dengan data unik.\n",
      "\n",
      "Memproses file: C:\\Users\\HAFIZ\\Downloads\\Untitled Folder\\Universitas Telkom Bandung.csv\n",
      "Tidak ada data duplikat di C:\\Users\\HAFIZ\\Downloads\\Untitled Folder\\Universitas Telkom Bandung.csv.\n",
      "File C:\\Users\\HAFIZ\\Downloads\\Untitled Folder\\Universitas Telkom Bandung.csv telah diperbarui dengan data unik.\n"
     ]
    }
   ],
   "source": [
    "import pandas as pd\n",
    "import glob\n",
    "import os\n",
    "\n",
    "# Tentukan folder tempat file CSV berada\n",
    "folder_path = 'C:\\\\Users\\\\HAFIZ\\\\Downloads\\\\Untitled Folder\\\\'\n",
    "csv_files = glob.glob(os.path.join(folder_path, \"*.csv\"))  # Mengambil semua file .csv di folder\n",
    "\n",
    "# Looping untuk memproses setiap file CSV\n",
    "for file_path in csv_files:\n",
    "    print(f\"\\nMemproses file: {file_path}\")\n",
    "    df = pd.read_csv(file_path)\n",
    "\n",
    "    # Mengecek duplikat\n",
    "    duplicates = df[df.duplicated()]\n",
    "    \n",
    "    if not duplicates.empty:\n",
    "        print(f\"Data duplikat ditemukan di {file_path}:\")\n",
    "        print(duplicates)\n",
    "    else:\n",
    "        print(f\"Tidak ada data duplikat di {file_path}.\")\n",
    "\n",
    "    # Menghapus duplikat dan menyimpan kembali file yang diperbarui\n",
    "    df_cleaned = df.drop_duplicates()\n",
    "    df_cleaned.to_csv(file_path, index=False)\n",
    "    print(f\"File {file_path} telah diperbarui dengan data unik.\")\n"
   ]
  },
  {
   "cell_type": "code",
   "execution_count": 24,
   "id": "c68bac51",
   "metadata": {
    "editable": true,
    "slideshow": {
     "slide_type": ""
    },
    "tags": []
   },
   "outputs": [
    {
     "name": "stdout",
     "output_type": "stream",
     "text": [
      "                            nama  \\\n",
      "0                        m. ltfh   \n",
      "1    Muhammad Yunus Dani Saputra   \n",
      "2            MARIO MALIK SAPUTRA   \n",
      "3                   Rodo Saragih   \n",
      "4             Ahmad Shofan Shofa   \n",
      "..                           ...   \n",
      "148                  Kadim Kadim   \n",
      "149              Ananda Pangestu   \n",
      "150              Haikal Fadhilah   \n",
      "151         Indra Maulana Marbun   \n",
      "152                  theena_ oky   \n",
      "\n",
      "                                                review  bintang  \n",
      "0    Lokasinya masuk lumayan jauh dari jalan utama....        5  \n",
      "1    Fasilitas di ITTP menurut saya sudah sangat me...        5  \n",
      "2    Udah test di SMA N 2 Pemalang hasilnya memuask...        5  \n",
      "3    Kampus hebat bisa melahirkan alumni yg berkual...        5  \n",
      "4    Institut Teknologi Telkom Purwokerto (ITTP) me...        4  \n",
      "..                                                 ...      ...  \n",
      "148                           Toward Telkom University        5  \n",
      "149                                         Luar biasa        5  \n",
      "150                                            Awesome        5  \n",
      "151                                    Kampus digital🌟        5  \n",
      "152                                    Digital campus🌟        5  \n",
      "\n",
      "[153 rows x 3 columns]\n"
     ]
    }
   ],
   "source": [
    "Uper = Uper.dropna()\n",
    "Uper.isna().sum()\n",
    "print(Uper)"
   ]
  },
  {
   "cell_type": "code",
   "execution_count": 4,
   "id": "6519c4b2",
   "metadata": {},
   "outputs": [
    {
     "data": {
      "image/png": "[encoded data removed]",
      "text/plain": [
       "<Figure size 1200x600 with 1 Axes>"
      ]
     },
     "metadata": {},
     "output_type": "display_data"
    }
   ],
   "source": [
    "import pandas as pd\n",
    "import matplotlib.pyplot as plt\n",
    "import glob\n",
    "import os\n",
    "\n",
    "# Tentukan folder tempat file CSV berada\n",
    "folder_path = 'C:\\\\Users\\\\HAFIZ\\\\Downloads\\\\Untitled Folder\\\\'\n",
    "csv_files = glob.glob(os.path.join(folder_path, \"*.csv\"))  # Mengambil semua file .csv di folder\n",
    "\n",
    "# Count total data for each university\n",
    "total_data = {}\n",
    "for path in csv_files:\n",
    "    name = os.path.basename(path).replace('.csv', '')\n",
    "    try:\n",
    "        df = pd.read_csv(path)\n",
    "        total_data[name] = len(df)\n",
    "    except Exception as e:\n",
    "        total_data[name] = 0\n",
    "\n",
    "# Create bar chart\n",
    "plt.figure(figsize=(12, 6))\n",
    "plt.bar(total_data.keys(), total_data.values(), color='skyblue')\n",
    "plt.xlabel('Nama Universitas')\n",
    "plt.ylabel('Total Data')\n",
    "plt.title('Total Data dari Masing-Masing Universitas')\n",
    "plt.xticks(rotation=45)\n",
    "plt.tight_layout()\n",
    "plt.show()\n"
   ]
  },
  {
   "cell_type": "code",
   "execution_count": null,
   "id": "dda3f269-a2ab-4886-bead-fd55b01f044c",
   "metadata": {},
   "outputs": [],
   "source": []
  }
 ],
 "metadata": {
  "kernelspec": {
   "display_name": "Python [conda env:base] *",
   "language": "python",
   "name": "conda-base-py"
  },
  "language_info": {
   "codemirror_mode": {
    "name": "ipython",
    "version": 3
   },
   "file_extension": ".py",
   "mimetype": "text/x-python",
   "name": "python",
   "nbconvert_exporter": "python",
   "pygments_lexer": "ipython3",
   "version": "3.11.5"
  }
 },
 "nbformat": 4,
 "nbformat_minor": 5
}
